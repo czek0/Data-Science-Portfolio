{
 "cells": [
  {
   "cell_type": "markdown",
   "metadata": {},
   "source": [
    "## Working with Social Graphs"
   ]
  },
  {
   "cell_type": "markdown",
   "metadata": {},
   "source": [
    "#### Introduction\n",
    "Social networks have become a fixture of modern life, thanks to social networking sites such\n",
    "as Facebook and Twitter. Social networks themselves are not new, however. The study of such networks dates back to the early twentieth century, particularly in the fields of sociology and anthropology. It is their prevalence in mainstream applications that has moved these types of studies to the purview of data science\n",
    "\n",
    "### Use of Graph Theory\n",
    "The basis for the analyses in this chapter comes from graph theory—the mathematical study of the application and properties of graphs, originally motivated by the study of games of chance. Generally speaking, this involves the study of network encoding and measuring properties of a graph. Graph theory can be traced back to Euler's work on the Seven Bridges of Königsberg problem in the year 1735. However, in recent decades, the rise of the social network has influenced the discipline, particularly with computer science graph data structures and databases.\n",
    "Let's start with a point of contention. What is the difference between a network and a graph?\n",
    "The term graph can be used to imply visual representations of variables and functions, the mathematical concept of a set of nodes and edges, or the data structure based on that concept. Similarly, the term network has multiple definitions; it can be an interconnected system or a specialized type of mathematical graph. Therefore, either term, social network or social graph, is appropriate in this case, particularly as we are referring to the mathematical concept and data structure.\n",
    "\n",
    "Graph problems generally fall into a few categories. Existence problems\n",
    "attempt to determine if a node, path, or subgraph exists, particularly if there is a constraint. Construction problems focus on the construction of a graph, given a set of nodes and paths, within given constraints. Enumeration problems attempt to determine the list of vertices and relationships within a set of constraints. Finally, optimization problems determine the shortest path between two nodes.\n"
   ]
  },
  {
   "cell_type": "markdown",
   "metadata": {},
   "source": [
    "## Preparing to work with Social Networks\n",
    "\n",
    "The required external libraries for the tasks in this chapter are as follows:\n",
    "f NetworkX\n",
    "f matplotlib\n",
    "f python-louvain\n",
    "\n",
    "Make sure these are installed before continuing. You can install via \"pip install networkx\" or \"sudo pip install networkx"
   ]
  },
  {
   "cell_type": "markdown",
   "metadata": {},
   "source": [
    "##### The Dataset\n",
    "The dataset we will explore in this chapter is fun. It's the Marvel Universe Social Graph dataset constructed by Cesc Rosselló, Ricardo Alberich, and Joe Miro as part of their research on disordered systems and neural networks (http://bioinfo.uib.es/~joemiro/marvel. html). They created the network by compiling characters with the comic books in which they appear; as it turns out, the network actually mimics a real-world social network. Since then, there have been many visualizations of, and other mashups using this famous dataset (as well as extensions). In this recipe, we will import the needed data into our Python environment."
   ]
  },
  {
   "cell_type": "code",
   "execution_count": 2,
   "metadata": {},
   "outputs": [],
   "source": [
    "import networkx as nx\n",
    "import unicodecsv as csv\n",
    "\n",
    "def graph_from_csv(path):\n",
    "    graph = nx.Graph(name=\"Heroic Social Network\")\n",
    "    with open(path, 'rU') as data:\n",
    "        reader = csv.reader(data)\n",
    "        for row in reader:\n",
    "            graph.add_edge(*row)\n",
    "        \n",
    "    return graph\n"
   ]
  },
  {
   "cell_type": "markdown",
   "metadata": {},
   "source": [
    "Each row is a (hero, hero) tuple. Using the *row notation, we expand the tuple so that the function definition is actually graph.add_edge(hero, hero)."
   ]
  },
  {
   "cell_type": "markdown",
   "metadata": {},
   "source": [
    "The alternate dataset, from which the social network was derived, includes the comics in which the characters appeared. A slightly different graph generation mechanism is necessary for this format:"
   ]
  },
  {
   "cell_type": "code",
   "execution_count": 4,
   "metadata": {},
   "outputs": [],
   "source": [
    "def graph_from_gdf(path):\n",
    "    graph = nx.Graph(name=\"Characters in Comics\")\n",
    "    with open(path, 'rU') as data:\n",
    "        reader = csv.reader(data)\n",
    "        for row in reader:\n",
    "            if 'nodedef' in row[0]:\n",
    "                handler = lambda row,G: G.add_node(row[0],\n",
    "                    TYPE=row[1])\n",
    "            elif 'edgedef' in row[0]:\n",
    "                handler = lambda row,G: G.add_edge(*row)\n",
    "            else:\n",
    "                handler(row, graph)\n",
    "    return graph\n"
   ]
  },
  {
   "cell_type": "markdown",
   "metadata": {},
   "source": [
    "In this tab-separated value (TSV) file, there is a banner that says nodedef or edgedef before the rows of nodes or edge definitions. While we loop through each row, we create a handler function, lambda, depending on whether we've seen the banner. Then, for every row under the banner, we use the defined handler as we're in the section for either nodes or edges."
   ]
  },
  {
   "cell_type": "code",
   "execution_count": null,
   "metadata": {},
   "outputs": [],
   "source": [
    "nx.info(graph)"
   ]
  }
 ],
 "metadata": {
  "kernelspec": {
   "display_name": "Python 3",
   "language": "python",
   "name": "python3"
  },
  "language_info": {
   "codemirror_mode": {
    "name": "ipython",
    "version": 3
   },
   "file_extension": ".py",
   "mimetype": "text/x-python",
   "name": "python",
   "nbconvert_exporter": "python",
   "pygments_lexer": "ipython3",
   "version": "3.11.5"
  }
 },
 "nbformat": 4,
 "nbformat_minor": 2
}
