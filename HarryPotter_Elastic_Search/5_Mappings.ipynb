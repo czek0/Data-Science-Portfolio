{
 "cells": [
  {
   "cell_type": "markdown",
   "metadata": {},
   "source": [
    "# Part 5: Index Mappings\n",
    "Developers will mostly work in the Console tool, found under the Management tab. From here you can send HTTP requests to Elastic and view the results."
   ]
  },
  {
   "cell_type": "markdown",
   "metadata": {},
   "source": [
    "When we uploaded our data to Elastic, we alredy built an index, you can now use a simple GET command to see all documents (or in this case row entries) that have been indexed under \"hp_ch\".\n",
    "\n"
   ]
  },
  {
   "cell_type": "markdown",
   "metadata": {},
   "source": [
    "GET hp_characters/_search"
   ]
  },
  {
   "cell_type": "markdown",
   "metadata": {},
   "source": [
    "![image](Supporting_images/5_mappings1.png)"
   ]
  },
  {
   "cell_type": "markdown",
   "metadata": {},
   "source": [
    "This lets us see how each document is stored in the form of a dictionary, starting with the entry for Harry Potter himself, along with other attributes associated with him.\n",
    "\n",
    "Now let's continue where we left off in our exploration. We noticed in the previous sections that some columns were case sensitive and easier to search yet unavailable to visualize, while others were categorical.\n",
    "\n",
    "Recall that the Mappings is a dictionary that defines the structure and data types of the fields in your documents."
   ]
  },
  {
   "cell_type": "markdown",
   "metadata": {},
   "source": [
    "GET hp_ch/_mapping\n"
   ]
  },
  {
   "cell_type": "markdown",
   "metadata": {},
   "source": [
    "![image](Supporting_images/5_mappings2.png)"
   ]
  },
  {
   "cell_type": "markdown",
   "metadata": {},
   "source": [
    "We can see that my columns have not changed names so we want to change some of the data types and build a new mapping. There are already some great out of the box choices, like keywords for categorical data like \"House\", \"Eye colour\", or \"Species\". However, Names or Patronus should probably be switched to text, since they can be unique for the wizard and too large of a number to be considered categorical. "
   ]
  },
  {
   "cell_type": "markdown",
   "metadata": {},
   "source": [
    "PUT hp/_mapping\n",
    "{\n",
    "  \"properties\": {\n",
    "    \"column1\": {\n",
    "      \"type\": \"long\"\n",
    "    },\n",
    "    \"column10\": {\n",
    "      \"type\": \"keyword\"\n",
    "    },\n",
    "    \"column11\": {\n",
    "      \"type\": \"keyword\"\n",
    "    },\n",
    "    \"column12\": {\n",
    "      \"type\": \"text\"\n",
    "    },\n",
    "    \"column13\": {\n",
    "      \"type\": \"text\"\n",
    "    },\n",
    "    \"column14\": {\n",
    "      \"type\": \"date\",\n",
    "      \"format\": \"yyyy-MM-dd HH:mm:ss||strict_date_optional_time||epoch_millis\",\n",
    "      \"ignore_malformed\": true\n",
    "    },\n",
    "    \"column15\": {\n",
    "      \"type\": \"date\",\n",
    "      \"format\": \"yyyy-MM-dd HH:mm:ss||strict_date_optional_time||epoch_millis\",\n",
    "      \"ignore_malformed\": true\n",
    "    },\n",
    "    \"column2\": {\n",
    "      \"type\": \"keyword\"\n",
    "    },\n",
    "    \"column3\": {\n",
    "      \"type\": \"keyword\"\n",
    "    },\n",
    "    \"column4\": {\n",
    "      \"type\": \"text\"\n",
    "    },\n",
    "    \"column5\": {\n",
    "      \"type\": \"keyword\"\n",
    "    },\n",
    "    \"column6\": {\n",
    "      \"type\": \"text\"\n",
    "    },\n",
    "    \"column7\": {\n",
    "      \"type\": \"text\"\n",
    "    },\n",
    "    \"column8\": {\n",
    "      \"type\": \"text\"\n",
    "    },\n",
    "    \"column9\": {\n",
    "      \"type\": \"text\"\n",
    "    }\n",
    "  }\n",
    "}"
   ]
  },
  {
   "cell_type": "markdown",
   "metadata": {},
   "source": [
    " \"column12\": \"Loyalty\",\n",
    "          \"column11\": \"Eye colour\",\n",
    "          \"column10\": \"Hair colour\",\n",
    "          \"column5\": \"House\",\n",
    "          \"column4\": \"Job\",\n",
    "          \"column3\": \"Gender\",\n",
    "          \"column2\": \"Name\",\n",
    "          \"column15\": \"Death\",\n",
    "          \"column14\": \"Birth\",\n",
    "          \"column13\": \"Skills\",\n",
    "          \"column9\": \"Blood status\",\n",
    "          \"column8\": \"Species\",\n",
    "          \"column7\": \"Patronus\",\n",
    "          \"column6\": \"Wand\""
   ]
  },
  {
   "cell_type": "markdown",
   "metadata": {},
   "source": [
    "I was able to create the new mappings, but not rename my data using mapping. I used the copy to method"
   ]
  },
  {
   "cell_type": "markdown",
   "metadata": {},
   "source": [
    "PUT hp/_mapping\n",
    "{\n",
    "  \"properties\": {\n",
    "    \"column1\": {\n",
    "      \"type\": \"long\"\n",
    "    },\n",
    "    \"original_column10\": {\n",
    "      \"type\": \"keyword\",\n",
    "      \"copy_to\": \"Hair colour\"\n",
    "    },\n",
    "    \"original_column11\": {\n",
    "      \"type\": \"keyword\",\n",
    "      \"copy_to\": \"Eye colour\"\n",
    "    },\n",
    "    \"column12\": {\n",
    "      \"type\": \"text\",\n",
    "      \"copy_to\": \"Loyalty\"\n",
    "    },\n",
    "    \"column13\": {\n",
    "      \"type\": \"text\",\n",
    "      \"copy_to\": \"Skills\"\n",
    "    },\n",
    "    \"original_column14\": {\n",
    "      \"type\": \"date\",\n",
    "      \"format\": \"yyyy-MM-dd HH:mm:ss||strict_date_optional_time||epoch_millis\",\n",
    "      \"ignore_malformed\": true,\n",
    "      \"copy_to\": \"Birth\"\n",
    "    },\n",
    "    \"original_column15\": {\n",
    "      \"type\": \"date\",\n",
    "      \"format\": \"yyyy-MM-dd HH:mm:ss||strict_date_optional_time||epoch_millis\",\n",
    "      \"ignore_malformed\": true,\n",
    "      \"copy_to\": \"Death\"\n",
    "    },\n",
    "    \"column2\": {\n",
    "      \"type\": \"keyword\",\n",
    "      \"copy_to\": \"Name\"\n",
    "    },\n",
    "    \"column3\": {\n",
    "      \"type\": \"keyword\",\n",
    "      \"copy_to\": \"Gender\"\n",
    "    },\n",
    "    \"column4\": {\n",
    "      \"type\": \"text\",\n",
    "      \"copy_to\": \"Job\"\n",
    "    },\n",
    "    \"column5\": {\n",
    "      \"type\": \"keyword\",\n",
    "      \"copy_to\": \"House\"\n",
    "    },\n",
    "    \"column6\": {\n",
    "      \"type\": \"text\",\n",
    "      \"copy_to\": \"Wand\"\n",
    "    },\n",
    "    \"column7\": {\n",
    "      \"type\": \"text\",\n",
    "      \"copy_to\": \"Patronus\"\n",
    "    },\n",
    "    \"column8\": {\n",
    "      \"type\": \"text\",\n",
    "      \"copy_to\": \"Species\"\n",
    "    },\n",
    "    \"column9\": {\n",
    "      \"type\": \"text\",\n",
    "      \"copy_to\": \"Blood status\"\n",
    "    }\n",
    "  }\n",
    "}"
   ]
  }
 ],
 "metadata": {
  "kernelspec": {
   "display_name": "Python 3",
   "language": "python",
   "name": "python3"
  },
  "language_info": {
   "codemirror_mode": {
    "name": "ipython",
    "version": 3
   },
   "file_extension": ".py",
   "mimetype": "text/x-python",
   "name": "python",
   "nbconvert_exporter": "python",
   "pygments_lexer": "ipython3",
   "version": "3.11.5"
  }
 },
 "nbformat": 4,
 "nbformat_minor": 2
}
