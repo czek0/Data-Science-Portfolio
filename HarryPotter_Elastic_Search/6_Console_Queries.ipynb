{
 "cells": [
  {
   "cell_type": "markdown",
   "metadata": {},
   "source": [
    "# Part 5: Examples of Queires using Console"
   ]
  },
  {
   "cell_type": "code",
   "execution_count": null,
   "metadata": {
    "vscode": {
     "languageId": "plaintext"
    }
   },
   "outputs": [],
   "source": [
    "GET hp_characters/_search\n",
    "{\n",
    "  \"query\": {\n",
    "    \"match\": {\n",
    "      \"column12\": \"Dumbledores Army\"\n",
    "    }\n",
    "  }\n",
    "}"
   ]
  },
  {
   "cell_type": "markdown",
   "metadata": {},
   "source": [
    "{\n",
    "  \"took\": 3,\n",
    "  \"timed_out\": false,\n",
    "  \"_shards\": {\n",
    "    \"total\": 1,\n",
    "    \"successful\": 1,\n",
    "    \"skipped\": 0,\n",
    "    \"failed\": 0\n",
    "  },\n",
    "  \"hits\": {\n",
    "    \"total\": {\n",
    "      \"value\": 31,\n",
    "      \"relation\": \"eq\"\n",
    "    },\n",
    "    \"max_score\": 3.8230174,\n",
    "    \"hits\": [\n",
    "      {\n",
    "        \"_index\": \"hp_characters\",\n",
    "        \"_id\": \"iFZNLZABzx_Mddi1a7YD\",\n",
    "        \"_score\": 3.8230174,\n",
    "        \"_source\": {\n",
    "          \"column1\": 84,\n",
    "          \"column12\": \"Dumbledores Army\",\n",
    "          \"column11\": \"Unknown\",\n",
    "          \"column10\": \"Red\",\n",
    "          \"column5\": \"Hufflepuff\",\n",
    "          \"column4\": \"Student\",\n",
    "          \"column3\": \"Male\",\n",
    "          \"column2\": \"Justin FinchFletchley\",\n",
    "          \"column15\": \"Unknown\",\n",
    "          \"column14\": \"Unknown\",\n",
    "          \"column13\": \"Unknown\",\n",
    "          \"column9\": \"muggleborn\",\n",
    "          \"column8\": \"Human\",\n",
    "          \"column7\": \"Noncorporeal\",\n",
    "          \"column6\": \"Unknown\"\n",
    "        }\n",
    "      },\n",
    "      {\n",
    "        \"_index\": \"hp_characters\",\n",
    "        \"_id\": \"iVZNLZABzx_Mddi1a7YD\",\n",
    "        \"_score\": 3.8230174,\n",
    "        \"_source\": {\n",
    "          \"column1\": 85,\n",
    "          \"column12\": \"Dumbledores Army\",\n",
    "          \"column11\": \"Unknown\",\n",
    "          \"column10\": \"Blonde\",\n",
    "          \"column5\": \"Hufflepuff\",\n",
    "          \"column4\": \"Student\",\n",
    "          \"column3\": \"Male\",\n",
    "          \"column2\": \"Zacharias Smith\",\n",
    "          \"column15\": \"Unknown\",\n",
    "          \"column14\": \"Unknown\",\n",
    "          \"column13\": \"Chaser\",\n",
    "          \"column9\": \"pureblood or halfblood\",\n",
    "          \"column8\": \"Human\",\n",
    "          \"column7\": \"Unknown\",\n",
    "          \"column6\": \"Unknown\"\n",
    "        }\n",
    "      },\n",
    "      {\n",
    "        \"_index\": \"hp_characters\",\n",
    "        \"_id\": \"ilZNLZABzx_Mddi1a7YD\",\n",
    "        \"_score\": 3.8230174,\n",
    "        \"_source\": {\n",
    "          \"column1\": 86,\n",
    "          \"column12\": \"Dumbledores Army\",\n",
    "          \"column11\": \"Brown\",\n",
    "          \"column10\": \"Blonde\",\n",
    "          \"column5\": \"Hufflepuff\",\n",
    "          \"column4\": \"Student\",\n",
    "          \"column3\": \"Female\",\n",
    "          \"column2\": \"Hannah Abbott\",\n",
    "          \"column15\": \"Unknown\",\n",
    "          \"column14\": \"Unknown\",\n",
    "          \"column13\": \"Defensive spells learned with Dumbledores Army\",\n",
    "          \"column9\": \"halfblood\",\n",
    "          \"column8\": \"Human\",\n",
    "          \"column7\": \"Noncorporeal\",\n",
    "          \"column6\": \"Unknown\"\n",
    "        }\n",
    "      },\n",
    "      {\n",
    "        \"_index\": \"hp_characters\",\n",
    "        \"_id\": \"i1ZNLZABzx_Mddi1a7YD\",\n",
    "        \"_score\": 3.8230174,\n",
    "        \"_source\": {\n",
    "          \"column1\": 87,\n",
    "          \"column12\": \"Dumbledores Army\",\n",
    "          \"column11\": \"Unknown\",\n",
    "          \"column10\": \"Blond\",\n",
    "          \"column5\": \"Hufflepuff\",\n",
    "          \"column4\": \"Student\",\n",
    "          \"column3\": \"Male\",\n",
    "          \"column2\": \"Ernest Macmillan\",\n",
    "          \"column15\": \"Unknown\",\n",
    "          \"column14\": \"Unknown\",\n",
    "          \"column13\": \"Revising being a Prefect getting the wrong end of the stick\",\n",
    "          \"column9\": \"pureblood\",\n",
    "          \"column8\": \"Human\",\n",
    "          \"column7\": \"Boar\",\n",
    "          \"column6\": \"Unknown\"\n",
    "        }\n",
    "      },\n",
    "      ..."
   ]
  },
  {
   "cell_type": "code",
   "execution_count": null,
   "metadata": {
    "vscode": {
     "languageId": "plaintext"
    }
   },
   "outputs": [],
   "source": [
    "GET hp_characters/_search\n",
    "{\n",
    "  \"query\": {\n",
    "    \"match\": {\n",
    "      \"column12\": {\n",
    "        \"query\" :\"Order of the Phoenix Hogwarts School Dumbledores Army\",\n",
    "        \"operator\": \"and\"\n",
    "      }\n",
    "    }\n",
    "  }\n",
    "}"
   ]
  },
  {
   "cell_type": "markdown",
   "metadata": {},
   "source": [
    "#### multi_match to search for various terms across fields"
   ]
  },
  {
   "cell_type": "code",
   "execution_count": null,
   "metadata": {
    "vscode": {
     "languageId": "plaintext"
    }
   },
   "outputs": [],
   "source": [
    "GET hp_characters/_search\n",
    "{\n",
    "  \"query\": {\n",
    "    \"multi_match\" : {\n",
    "      \"query\":    \"quidditch chaser keeper beater seeker\", \n",
    "      \"fields\": [ \"column4\", \"column13\" ] \n",
    "    }\n",
    "  }\n",
    "}"
   ]
  },
  {
   "cell_type": "markdown",
   "metadata": {},
   "source": [
    "Result = 29 for quidditch-related wizards"
   ]
  },
  {
   "cell_type": "markdown",
   "metadata": {},
   "source": [
    "{\n",
    "  \"took\": 3,\n",
    "  \"timed_out\": false,\n",
    "  \"_shards\": {\n",
    "    \"total\": 1,\n",
    "    \"successful\": 1,\n",
    "    \"skipped\": 0,\n",
    "    \"failed\": 0\n",
    "  },\n",
    "  \"hits\": {\n",
    "    \"total\": {\n",
    "      \"value\": 29,\n",
    "      \"relation\": \"eq\"\n",
    "    },\n",
    "    \"max_score\": 8.977141,\n",
    "    \"hits\": [\n",
    "      {\n",
    "        \"_index\": \"hp_characters\",\n",
    "        \"_id\": \"UFZNLZABzx_Mddi1a7YD\",\n",
    "        \"_score\": 8.977141,\n",
    "        \"_source\": {\n",
    "          \"column1\": 28,\n",
    "          \"column12\": \"Dumbledores Army Hogwarts School of Witchcraft and Wizardry\",\n",
    "          \"column11\": \"Unknown\",\n",
    "          \"column10\": \"Blond\",\n",
    "          \"column5\": \"Gryffindor\",\n",
    "          \"column4\": \"Student\",\n",
    "          \"column3\": \"Male\",\n",
    "          \"column2\": \"Cormac McLaggen\",\n",
    "          \"column15\": \"Unknown\",\n",
    "          \"column14\": \"Unknown\",\n",
    "          \"column13\": \"Quidditch Keeper\",\n",
    "          \"column9\": \"pureblood or halfblood\",\n",
    "          \"column8\": \"Human\",\n",
    "          \"column7\": \"Unknown\",\n",
    "          \"column6\": \"Unknown\"\n",
    "        }\n",
    "      },\n",
    "      {\n",
    "        \"_index\": \"hp_characters\",\n",
    "        \"_id\": \"cVZNLZABzx_Mddi1a7YD\",\n",
    "        \"_score\": 6.262822,\n",
    "        \"_source\": {\n",
    "          \"column1\": 61,\n",
    "          \"column12\": \"Unknown\",\n",
    "          \"column11\": \"Brown\",\n",
    "          \"column10\": \"Brown\",\n",
    "          \"column5\": \"Slytherin\",\n",
    "          \"column4\": \"Student\",\n",
    "          \"column3\": \"Male\",\n",
    "          \"column2\": \"Graham Montague\",\n",
    "          \"column15\": \"Unknown\",\n",
    "          \"column14\": \"Unknown\",\n",
    "          \"column13\": \"Quidditch captain Chaser\",\n",
    "          \"column9\": \"pureblood or halfblood\",\n",
    "          \"column8\": \"Human\",\n",
    "          \"column7\": \"Unknown\",\n",
    "          \"column6\": \"Unknown\"\n",
    "        }\n",
    "      },\n",
    "      {\n",
    "        \"_index\": \"hp_characters\",\n",
    "        \"_id\": \"dVZNLZABzx_Mddi1a7YD\",\n",
    "        \"_score\": 6.262822,\n",
    "        \"_source\": {\n",
    "          \"column1\": 65,\n",
    "          \"column12\": \"Unknown\",\n",
    "          \"column11\": \"Dark\",\n",
    "          \"column10\": \"Dark\",\n",
    "          \"column5\": \"Ravenclaw\",\n",
    "          \"column4\": \"Student\",\n",
    "          \"column3\": \"Male\",\n",
    "          \"column2\": \"Roger Davies\",\n",
    "          \"column15\": \"Unknown\",\n",
    "          \"column14\": \"Unknown\",\n",
    "          \"column13\": \"Quidditch Captain Chaser\",\n",
    "          \"column9\": \"unknown\",\n",
    "          \"column8\": \"Human\",\n",
    "          \"column7\": \"Unknown\",\n",
    "          \"column6\": \"Unknown\"\n",
    "        }\n",
    "      },\n",
    "      {\n",
    "        \"_index\": \"hp_characters\",\n",
    "        \"_id\": \"SFZNLZABzx_Mddi1a7YD\",\n",
    "        \"_score\": 5.610116,\n",
    "        \"_source\": {\n",
    "          \"column1\": 20,\n",
    "          \"column12\": \"Hogwarts School of Witchcraft and Wizardry\",\n",
    "          \"column11\": \"Unknown\",\n",
    "          \"column10\": \"Unknown\",\n",
    "          \"column5\": \"Gryffindor\",\n",
    "          \"column4\": \"Student\",\n",
    "          \"column3\": \"Male\",\n",
    "          \"column2\": \"Oliver Wood\",\n",
    "          \"column15\": \"Unknown\",\n",
    "          \"column14\": \"Unknown\",\n",
    "          \"column13\": \"Keeper  Captain of the Gryffindor Quidditch team\",\n",
    "          \"column9\": \"pureblood or halfblood\",\n",
    "          \"column8\": \"Human\",\n",
    "          \"column7\": \"Unknown\",\n",
    "          \"column6\": \"Unknown\"\n",
    "        }\n",
    "      },\n",
    "\n",
    "      ...."
   ]
  },
  {
   "cell_type": "markdown",
   "metadata": {},
   "source": [
    "### boolean queries to combine different searches"
   ]
  },
  {
   "cell_type": "code",
   "execution_count": null,
   "metadata": {
    "vscode": {
     "languageId": "plaintext"
    }
   },
   "outputs": [],
   "source": [
    "GET hp/_search\n",
    "{\n",
    "  \"query\": {\n",
    "    \"bool\": {\n",
    "      \"must\" : [\n",
    "        {\n",
    "          \"multi_match\" : {\n",
    "            \"query\":    \"quidditch chaser keeper beater seeker\", \n",
    "            \"fields\": [ \"column4\", \"column13\" ] \n",
    "          }\n",
    "        },\n",
    "        {\n",
    "          \"match\" : {\n",
    "            \"column5\" : \"Gryffindor\"\n",
    "          }\n",
    "        }\n",
    "      ]\n",
    "    }\n",
    "  }\n",
    "}"
   ]
  },
  {
   "cell_type": "markdown",
   "metadata": {},
   "source": [
    "Results: 16 related queries for quidditch positions and in gryffindor"
   ]
  },
  {
   "cell_type": "markdown",
   "metadata": {},
   "source": [
    "### Adding a must-not query for elimination, and a range type for numeric/date variables"
   ]
  },
  {
   "cell_type": "code",
   "execution_count": null,
   "metadata": {
    "vscode": {
     "languageId": "plaintext"
    }
   },
   "outputs": [],
   "source": [
    "GET hp/_search\n",
    "{\n",
    "  \"query\": {\n",
    "    \"bool\": {\n",
    "      \"must\" : [\n",
    "        {\n",
    "          \"multi_match\" : {\n",
    "            \"query\":    \"quidditch chaser keeper beater seeker\", \n",
    "            \"fields\": [ \"column4\", \"column13\" ] \n",
    "          }\n",
    "        },\n",
    "        {\n",
    "          \"match\" : {\n",
    "            \"column5\" : \"Gryffindor\"\n",
    "          }\n",
    "        }\n",
    "      ],\n",
    "    \"must_not\": {\n",
    "          \"range\": {\n",
    "            \"column14\": {\n",
    "              \"lte\":\"1980-01-01\"\n",
    "              }\n",
    "          }\n",
    "        }\n",
    "    }  \n",
    "  }\n",
    "}"
   ]
  },
  {
   "cell_type": "markdown",
   "metadata": {},
   "source": [
    "Result = 11 gryffindor athletes born after 1980"
   ]
  },
  {
   "cell_type": "markdown",
   "metadata": {},
   "source": [
    "### Only allow documents that contain a certain attribute"
   ]
  },
  {
   "cell_type": "code",
   "execution_count": null,
   "metadata": {
    "vscode": {
     "languageId": "plaintext"
    }
   },
   "outputs": [],
   "source": [
    "GET hp/_search\n",
    "{\n",
    "  \"query\": {\n",
    "    \"bool\": {\n",
    "      \"must\" : [\n",
    "        {\n",
    "          \"multi_match\" : {\n",
    "            \"query\":    \"quidditch chaser keeper beater seeker\", \n",
    "            \"fields\": [ \"column4\", \"column13\"] \n",
    "          }\n",
    "        },\n",
    "        {\n",
    "          \"match\" : {\n",
    "            \"column5\" : \"Gryffindor\"\n",
    "          }\n",
    "        }\n",
    "      ],\n",
    "      \"must_not\": {\n",
    "          \"range\": {\n",
    "            \"column14\": {\n",
    "              \"lte\":\"1980-01-01\"\n",
    "              }\n",
    "          }\n",
    "        },\n",
    "      \"filter\": {\n",
    "        \"term\": {\n",
    "          \"column10\": \"Red\"\n",
    "        }\n",
    "        \n",
    "      }\n",
    "    }  \n",
    "  }\n",
    "}"
   ]
  },
  {
   "cell_type": "markdown",
   "metadata": {},
   "source": [
    "Result = 3 Red-haired Weasly prodigies"
   ]
  },
  {
   "cell_type": "markdown",
   "metadata": {},
   "source": [
    "These examples cover some common query parameters and combinations, and only scratch the surface of what is possible with a search engine and a small dataset. "
   ]
  }
 ],
 "metadata": {
  "language_info": {
   "name": "python"
  }
 },
 "nbformat": 4,
 "nbformat_minor": 2
}
