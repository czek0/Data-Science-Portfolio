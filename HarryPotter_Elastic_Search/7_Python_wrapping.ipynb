{
 "cells": [
  {
   "cell_type": "markdown",
   "metadata": {},
   "source": [
    "# Python Wrapping Elastic"
   ]
  },
  {
   "cell_type": "markdown",
   "metadata": {},
   "source": [
    "We have to first create a connection to our deployment on Elasticsearch. This is a similar step from part 1.\n"
   ]
  },
  {
   "cell_type": "code",
   "execution_count": 1,
   "metadata": {},
   "outputs": [],
   "source": [
    "from getpass import getpass  # For securely getting user input\n",
    "from elasticsearch import Elasticsearch\n",
    "\n",
    "# Prompt the user to enter their Elastic Cloud ID and API Key securely\n",
    "ELASTIC_CLOUD_ID = getpass(\"Elastic Cloud ID: \")\n",
    "ELASTIC_API_KEY = getpass(\"Elastic API Key: \")\n",
    "\n",
    "# Create an Elasticsearch client using the provided credentials\n",
    "client = Elasticsearch(\n",
    "    cloud_id=ELASTIC_CLOUD_ID,  # cloud id can be found under deployment management\n",
    "    api_key=ELASTIC_API_KEY # API keys can be generated under management / security\n",
    ")"
   ]
  },
  {
   "cell_type": "markdown",
   "metadata": {},
   "source": [
    "### Doing a simple queiry in python"
   ]
  },
  {
   "cell_type": "code",
   "execution_count": 2,
   "metadata": {},
   "outputs": [],
   "source": [
    "response = client.search(index=\"hp\", query={\n",
    "    \"match\": {\n",
    "        \"column12\": \"Dumbledores Army\"\n",
    "    }\n",
    "})"
   ]
  },
  {
   "cell_type": "code",
   "execution_count": 3,
   "metadata": {},
   "outputs": [
    {
     "name": "stdout",
     "output_type": "stream",
     "text": [
      "{'took': 1, 'timed_out': False, '_shards': {'total': 1, 'successful': 1, 'skipped': 0, 'failed': 0}, 'hits': {'total': {'value': 31, 'relation': 'eq'}, 'max_score': 3.8230174, 'hits': [{'_index': 'hp', '_id': 'iFZNLZABzx_Mddi1a7YD', '_score': 3.8230174, '_ignored': ['column15', 'column14'], '_source': {'column1': 84, 'column12': 'Dumbledores Army', 'column11': 'Unknown', 'column10': 'Red', 'column5': 'Hufflepuff', 'column4': 'Student', 'column3': 'Male', 'column2': 'Justin FinchFletchley', 'column15': 'Unknown', 'column14': 'Unknown', 'column13': 'Unknown', 'column9': 'muggleborn', 'column8': 'Human', 'column7': 'Noncorporeal', 'column6': 'Unknown'}}, {'_index': 'hp', '_id': 'iVZNLZABzx_Mddi1a7YD', '_score': 3.8230174, '_ignored': ['column15', 'column14'], '_source': {'column1': 85, 'column12': 'Dumbledores Army', 'column11': 'Unknown', 'column10': 'Blonde', 'column5': 'Hufflepuff', 'column4': 'Student', 'column3': 'Male', 'column2': 'Zacharias Smith', 'column15': 'Unknown', 'column14': 'Unknown', 'column13': 'Chaser', 'column9': 'pureblood or halfblood', 'column8': 'Human', 'column7': 'Unknown', 'column6': 'Unknown'}}, {'_index': 'hp', '_id': 'ilZNLZABzx_Mddi1a7YD', '_score': 3.8230174, '_ignored': ['column15', 'column14'], '_source': {'column1': 86, 'column12': 'Dumbledores Army', 'column11': 'Brown', 'column10': 'Blonde', 'column5': 'Hufflepuff', 'column4': 'Student', 'column3': 'Female', 'column2': 'Hannah Abbott', 'column15': 'Unknown', 'column14': 'Unknown', 'column13': 'Defensive spells learned with Dumbledores Army', 'column9': 'halfblood', 'column8': 'Human', 'column7': 'Noncorporeal', 'column6': 'Unknown'}}, {'_index': 'hp', '_id': 'i1ZNLZABzx_Mddi1a7YD', '_score': 3.8230174, '_ignored': ['column15', 'column14'], '_source': {'column1': 87, 'column12': 'Dumbledores Army', 'column11': 'Unknown', 'column10': 'Blond', 'column5': 'Hufflepuff', 'column4': 'Student', 'column3': 'Male', 'column2': 'Ernest Macmillan', 'column15': 'Unknown', 'column14': 'Unknown', 'column13': 'Revising being a Prefect getting the wrong end of the stick', 'column9': 'pureblood', 'column8': 'Human', 'column7': 'Boar', 'column6': 'Unknown'}}, {'_index': 'hp', '_id': 'jFZNLZABzx_Mddi1a7YD', '_score': 3.8230174, '_ignored': ['column15', 'column14'], '_source': {'column1': 88, 'column12': 'Dumbledores Army', 'column11': 'Unknown', 'column10': 'Unknown', 'column5': 'Hufflepuff', 'column4': 'Student', 'column3': 'Female', 'column2': 'Susan Bones', 'column15': 'Unknown', 'column14': 'Unknown', 'column13': 'Defensive spells learned with Dumbledores Army', 'column9': 'halfblood', 'column8': 'Human', 'column7': 'Unknown', 'column6': 'Unknown'}}, {'_index': 'hp', '_id': 'r1ZNLZABzx_Mddi1a7YD', '_score': 3.8230174, '_ignored': ['column15', 'column14'], '_source': {'column1': 123, 'column12': 'Dumbledores Army', 'column11': 'Unknown', 'column10': 'Mousy brown', 'column5': 'Gryffindor', 'column4': 'Student', 'column3': 'Male', 'column2': 'Dennis Creevey', 'column15': 'Unknown', 'column14': 'Unknown', 'column13': 'Unknown', 'column9': 'muggleborn', 'column8': 'Human', 'column7': 'Unknown', 'column6': 'Unknown'}}, {'_index': 'hp', '_id': 'PVZNLZABzx_Mddi1a7YD', '_score': 2.1849499, '_ignored': ['column15', 'column14'], '_source': {'column1': 9, 'column12': 'Dumbledores Army  Hogwarts School of Witchcraft and Wizardry', 'column11': 'Brown', 'column10': 'Black', 'column5': 'Gryffindor', 'column4': 'Student', 'column3': 'Male', 'column2': 'Dean Thomas', 'column15': 'Unknown', 'column14': 'Unknown', 'column13': 'Chaser', 'column9': 'muggleborn', 'column8': 'Human', 'column7': 'Unknown', 'column6': 'Unknown'}}, {'_index': 'hp', '_id': 'PlZNLZABzx_Mddi1a7YD', '_score': 2.1849499, '_ignored': ['column15', 'column14'], '_source': {'column1': 10, 'column12': 'Dumbledores Army  Hogwarts School of Witchcraft and Wizardry', 'column11': 'Unknown', 'column10': 'Sandy', 'column5': 'Gryffindor', 'column4': 'Student', 'column3': 'Male', 'column2': 'Seamus Finnigan', 'column15': 'Unknown', 'column14': 'Unknown', 'column13': 'Pyrotechnics', 'column9': 'halfblood', 'column8': 'Human', 'column7': 'Fox', 'column6': 'Unknown'}}, {'_index': 'hp', '_id': 'SVZNLZABzx_Mddi1a7YD', '_score': 2.1849499, '_ignored': ['column15', 'column14'], '_source': {'column1': 21, 'column12': 'Dumbledores Army Hogwarts School of Witchcraft and Wizardry', 'column11': 'Brown', 'column10': 'Brown', 'column5': 'Gryffindor', 'column4': 'Student', 'column3': 'Female', 'column2': 'Angelina Johnson', 'column15': 'Unknown', 'column14': 'Unknown', 'column13': 'Chaser', 'column9': 'unknown', 'column8': 'Human', 'column7': 'Unknown', 'column6': 'Unknown'}}, {'_index': 'hp', '_id': 'SlZNLZABzx_Mddi1a7YD', '_score': 2.1849499, '_ignored': ['column15', 'column14'], '_source': {'column1': 22, 'column12': 'Dumbledores Army Hogwarts School of Witchcraft and Wizardry', 'column11': 'Brown', 'column10': 'Brown', 'column5': 'Gryffindor', 'column4': 'Student', 'column3': 'Female', 'column2': 'Katie Bell', 'column15': 'Unknown', 'column14': 'Unknown', 'column13': 'Chaser', 'column9': 'pureblood or halfblood', 'column8': 'Human', 'column7': 'Unknown', 'column6': 'Unknown'}}]}}\n"
     ]
    }
   ],
   "source": [
    "print(response)"
   ]
  },
  {
   "cell_type": "markdown",
   "metadata": {},
   "source": [
    "We see the same json response as we got in the direct console calls. However, since we're already working in python, we can also clean up our response and make it more understandable:"
   ]
  },
  {
   "cell_type": "code",
   "execution_count": 5,
   "metadata": {},
   "outputs": [
    {
     "name": "stdout",
     "output_type": "stream",
     "text": [
      "We get back 31 results, here are the top ones:\n",
      "Justin FinchFletchley\n",
      "Zacharias Smith\n",
      "Hannah Abbott\n",
      "Ernest Macmillan\n",
      "Susan Bones\n",
      "Dennis Creevey\n",
      "Dean Thomas\n",
      "Seamus Finnigan\n",
      "Angelina Johnson\n",
      "Katie Bell\n"
     ]
    }
   ],
   "source": [
    "print(\"We get back {total} results, here are the top ones:\".format(total=response[\"hits\"]['total']['value']))\n",
    "for hit in response[\"hits\"][\"hits\"]:\n",
    "    print(hit['_source']['column2'])"
   ]
  },
  {
   "cell_type": "markdown",
   "metadata": {},
   "source": [
    "### Working with our Harry Potter Script to create improved searches"
   ]
  },
  {
   "cell_type": "markdown",
   "metadata": {},
   "source": [
    "We will now reintroduce our scripts from the first Harry Potter Movie, and prepare the data for search"
   ]
  },
  {
   "cell_type": "markdown",
   "metadata": {},
   "source": [
    "import"
   ]
  },
  {
   "cell_type": "code",
   "execution_count": 6,
   "metadata": {},
   "outputs": [],
   "source": [
    "import pandas as pd\n",
    "hp_script = pd.read_csv(\"../Data/Harry_Potter_1.csv\", sep = \";\" )"
   ]
  },
  {
   "cell_type": "markdown",
   "metadata": {},
   "source": [
    "clean"
   ]
  },
  {
   "cell_type": "code",
   "execution_count": 7,
   "metadata": {},
   "outputs": [
    {
     "name": "stdout",
     "output_type": "stream",
     "text": [
      "There are 91 unique characters: ['Dumbledore' 'McGonagall' 'Hagrid' 'Petunia' 'Dudley' 'Vernon' 'Harry'\n",
      " 'Snake' 'Someone' 'Barkeep\\xa0Tom' 'Man' 'Witch' 'Quirrell' 'Boy'\n",
      " 'Goblin' 'Griphook' 'Ollivander' 'Trainmaster' 'Mrs. Weasley' 'George'\n",
      " 'Fred' 'Ginny' 'Ron' 'Woman' 'Hermione' 'Neville' 'Malfoy' 'Whispers'\n",
      " 'Sorting Hat' 'Seamus' 'Percy' 'Sir Nicholas' 'Girl' 'Man in paint'\n",
      " 'Fat Lady' 'Snape' 'Dean' 'Madam Hooch' 'Class' 'Harry ' 'Fred  ' 'Ron  '\n",
      " 'George  ' 'Harry  ' 'Hermione  ' 'Ron ' 'Hermione ' 'Filch' 'All  '\n",
      " 'Oliver ' 'Oliver  ' 'Flitwick' 'Draco  ' 'Flitwick  ' 'Seamus  '\n",
      " 'Girl  ' 'Boy  ' 'Percy  ' 'McGonagall ' 'Ron and Harry' 'McGonagall  '\n",
      " 'Quirrell  ' 'Snape  ' 'OIiver  ' 'Lee Jordan' 'Hagrid ' 'Gryffindors  '\n",
      " 'Flint  ' 'Crowd  ' 'Flint' 'Hagrid  ' 'Man  ' 'Lee  Jordan'\n",
      " 'Madam Hooch ' 'Quirrell ' 'Filch  ' 'Dumbledore  ' 'Hermoine'\n",
      " 'Ron and Harry  ' 'All 3  ' 'Filch ' 'Firenze  ' 'Firenze ' 'Snape '\n",
      " 'Neville  ' 'Ron   ' 'Voldemort ' 'Voldemort' 'Voldemort  ' 'Dumbledore '\n",
      " 'Students']\n",
      "There are 56 unique characters: ['Dumbledore' 'McGonagall' 'Hagrid' 'Petunia' 'Dudley' 'Vernon' 'Harry'\n",
      " 'Snake' 'Someone' 'BarkeepTom' 'Man' 'Witch' 'Quirrell' 'Boy' 'Goblin'\n",
      " 'Griphook' 'Ollivander' 'Trainmaster' 'Mrs Weasley' 'George' 'Fred'\n",
      " 'Ginny' 'Ron' 'Woman' 'Hermione' 'Neville' 'Malfoy' 'Whispers'\n",
      " 'Sorting Hat' 'Seamus' 'Percy' 'Sir Nicholas' 'Girl' 'Man in paint'\n",
      " 'Fat Lady' 'Snape' 'Dean' 'Madam Hooch' 'Class' 'Filch' 'All' 'Oliver'\n",
      " 'Flitwick' 'Draco' 'Ron and Harry' 'OIiver' 'Lee Jordan' 'Gryffindors'\n",
      " 'Flint' 'Crowd' 'Lee  Jordan' 'Hermoine' 'All 3' 'Firenze' 'Voldemort'\n",
      " 'Students']\n"
     ]
    },
    {
     "name": "stderr",
     "output_type": "stream",
     "text": [
      "/var/folders/43/d_4615m118zcqh5504m6lkkh0000gn/T/ipykernel_68396/2658498848.py:4: FutureWarning: DataFrame.applymap has been deprecated. Use DataFrame.map instead.\n",
      "  hp_script = hp_script.applymap(lambda x: re.sub(r'[^ \\w+]', '', str(x).strip()))\n"
     ]
    }
   ],
   "source": [
    "import re\n",
    "unique_chars = hp_script[\"Character\"].unique()\n",
    "print(\"There are {} unique characters: {}\".format(len(unique_chars), unique_chars))\n",
    "hp_script = hp_script.applymap(lambda x: re.sub(r'[^ \\w+]', '', str(x).strip()))\n",
    "unique_chars = hp_script[\"Character\"].unique()\n",
    "print(\"There are {} unique characters: {}\".format(len(unique_chars), unique_chars))"
   ]
  },
  {
   "cell_type": "markdown",
   "metadata": {},
   "source": [
    "index and insert"
   ]
  },
  {
   "cell_type": "code",
   "execution_count": 9,
   "metadata": {},
   "outputs": [
    {
     "ename": "BadRequestError",
     "evalue": "BadRequestError(400, 'resource_already_exists_exception', 'index [hp_script_1/MrJfFxveTFiNOqwVi12UoA] already exists')",
     "output_type": "error",
     "traceback": [
      "\u001b[0;31m---------------------------------------------------------------------------\u001b[0m",
      "\u001b[0;31mBadRequestError\u001b[0m                           Traceback (most recent call last)",
      "\u001b[1;32m/Users/francescabrzoskowski/Desktop/2024/Data-Science-Portfolio/HarryPotter/7_python_wrapping.ipynb Cell 16\u001b[0m line \u001b[0;36m2\n\u001b[1;32m      <a href='vscode-notebook-cell:/Users/francescabrzoskowski/Desktop/2024/Data-Science-Portfolio/HarryPotter/7_python_wrapping.ipynb#X22sZmlsZQ%3D%3D?line=3'>4</a>\u001b[0m settings \u001b[39m=\u001b[39m {}\n\u001b[1;32m      <a href='vscode-notebook-cell:/Users/francescabrzoskowski/Desktop/2024/Data-Science-Portfolio/HarryPotter/7_python_wrapping.ipynb#X22sZmlsZQ%3D%3D?line=4'>5</a>\u001b[0m mappings \u001b[39m=\u001b[39m {\n\u001b[1;32m      <a href='vscode-notebook-cell:/Users/francescabrzoskowski/Desktop/2024/Data-Science-Portfolio/HarryPotter/7_python_wrapping.ipynb#X22sZmlsZQ%3D%3D?line=5'>6</a>\u001b[0m     \u001b[39m\"\u001b[39m\u001b[39m_meta\u001b[39m\u001b[39m\"\u001b[39m : {\n\u001b[1;32m      <a href='vscode-notebook-cell:/Users/francescabrzoskowski/Desktop/2024/Data-Science-Portfolio/HarryPotter/7_python_wrapping.ipynb#X22sZmlsZQ%3D%3D?line=6'>7</a>\u001b[0m         \u001b[39m\"\u001b[39m\u001b[39mcreated_by\u001b[39m\u001b[39m\"\u001b[39m : \u001b[39m\"\u001b[39m\u001b[39mIulia Feroli\u001b[39m\u001b[39m\"\u001b[39m\n\u001b[0;32m   (...)\u001b[0m\n\u001b[1;32m     <a href='vscode-notebook-cell:/Users/francescabrzoskowski/Desktop/2024/Data-Science-Portfolio/HarryPotter/7_python_wrapping.ipynb#X22sZmlsZQ%3D%3D?line=19'>20</a>\u001b[0m     }\n\u001b[1;32m     <a href='vscode-notebook-cell:/Users/francescabrzoskowski/Desktop/2024/Data-Science-Portfolio/HarryPotter/7_python_wrapping.ipynb#X22sZmlsZQ%3D%3D?line=20'>21</a>\u001b[0m }\n\u001b[0;32m---> <a href='vscode-notebook-cell:/Users/francescabrzoskowski/Desktop/2024/Data-Science-Portfolio/HarryPotter/7_python_wrapping.ipynb#X22sZmlsZQ%3D%3D?line=22'>23</a>\u001b[0m client\u001b[39m.\u001b[39;49mindices\u001b[39m.\u001b[39;49mcreate(index\u001b[39m=\u001b[39;49mindex, settings\u001b[39m=\u001b[39;49msettings, mappings\u001b[39m=\u001b[39;49mmappings)\n",
      "File \u001b[0;32m/usr/local/lib/python3.11/site-packages/elasticsearch/_sync/client/utils.py:446\u001b[0m, in \u001b[0;36m_rewrite_parameters.<locals>.wrapper.<locals>.wrapped\u001b[0;34m(*args, **kwargs)\u001b[0m\n\u001b[1;32m    443\u001b[0m         \u001b[39mexcept\u001b[39;00m \u001b[39mKeyError\u001b[39;00m:\n\u001b[1;32m    444\u001b[0m             \u001b[39mpass\u001b[39;00m\n\u001b[0;32m--> 446\u001b[0m \u001b[39mreturn\u001b[39;00m api(\u001b[39m*\u001b[39;49margs, \u001b[39m*\u001b[39;49m\u001b[39m*\u001b[39;49mkwargs)\n",
      "File \u001b[0;32m/usr/local/lib/python3.11/site-packages/elasticsearch/_sync/client/indices.py:553\u001b[0m, in \u001b[0;36mIndicesClient.create\u001b[0;34m(self, index, aliases, error_trace, filter_path, human, mappings, master_timeout, pretty, settings, timeout, wait_for_active_shards, body)\u001b[0m\n\u001b[1;32m    551\u001b[0m \u001b[39mif\u001b[39;00m __body \u001b[39mis\u001b[39;00m \u001b[39mnot\u001b[39;00m \u001b[39mNone\u001b[39;00m:\n\u001b[1;32m    552\u001b[0m     __headers[\u001b[39m\"\u001b[39m\u001b[39mcontent-type\u001b[39m\u001b[39m\"\u001b[39m] \u001b[39m=\u001b[39m \u001b[39m\"\u001b[39m\u001b[39mapplication/json\u001b[39m\u001b[39m\"\u001b[39m\n\u001b[0;32m--> 553\u001b[0m \u001b[39mreturn\u001b[39;00m \u001b[39mself\u001b[39;49m\u001b[39m.\u001b[39;49mperform_request(  \u001b[39m# type: ignore[return-value]\u001b[39;49;00m\n\u001b[1;32m    554\u001b[0m     \u001b[39m\"\u001b[39;49m\u001b[39mPUT\u001b[39;49m\u001b[39m\"\u001b[39;49m,\n\u001b[1;32m    555\u001b[0m     __path,\n\u001b[1;32m    556\u001b[0m     params\u001b[39m=\u001b[39;49m__query,\n\u001b[1;32m    557\u001b[0m     headers\u001b[39m=\u001b[39;49m__headers,\n\u001b[1;32m    558\u001b[0m     body\u001b[39m=\u001b[39;49m__body,\n\u001b[1;32m    559\u001b[0m     endpoint_id\u001b[39m=\u001b[39;49m\u001b[39m\"\u001b[39;49m\u001b[39mindices.create\u001b[39;49m\u001b[39m\"\u001b[39;49m,\n\u001b[1;32m    560\u001b[0m     path_parts\u001b[39m=\u001b[39;49m__path_parts,\n\u001b[1;32m    561\u001b[0m )\n",
      "File \u001b[0;32m/usr/local/lib/python3.11/site-packages/elasticsearch/_sync/client/_base.py:423\u001b[0m, in \u001b[0;36mNamespacedClient.perform_request\u001b[0;34m(self, method, path, params, headers, body, endpoint_id, path_parts)\u001b[0m\n\u001b[1;32m    410\u001b[0m \u001b[39mdef\u001b[39;00m \u001b[39mperform_request\u001b[39m(\n\u001b[1;32m    411\u001b[0m     \u001b[39mself\u001b[39m,\n\u001b[1;32m    412\u001b[0m     method: \u001b[39mstr\u001b[39m,\n\u001b[0;32m   (...)\u001b[0m\n\u001b[1;32m    421\u001b[0m     \u001b[39m# Use the internal clients .perform_request() implementation\u001b[39;00m\n\u001b[1;32m    422\u001b[0m     \u001b[39m# so we take advantage of their transport options.\u001b[39;00m\n\u001b[0;32m--> 423\u001b[0m     \u001b[39mreturn\u001b[39;00m \u001b[39mself\u001b[39;49m\u001b[39m.\u001b[39;49m_client\u001b[39m.\u001b[39;49mperform_request(\n\u001b[1;32m    424\u001b[0m         method,\n\u001b[1;32m    425\u001b[0m         path,\n\u001b[1;32m    426\u001b[0m         params\u001b[39m=\u001b[39;49mparams,\n\u001b[1;32m    427\u001b[0m         headers\u001b[39m=\u001b[39;49mheaders,\n\u001b[1;32m    428\u001b[0m         body\u001b[39m=\u001b[39;49mbody,\n\u001b[1;32m    429\u001b[0m         endpoint_id\u001b[39m=\u001b[39;49mendpoint_id,\n\u001b[1;32m    430\u001b[0m         path_parts\u001b[39m=\u001b[39;49mpath_parts,\n\u001b[1;32m    431\u001b[0m     )\n",
      "File \u001b[0;32m/usr/local/lib/python3.11/site-packages/elasticsearch/_sync/client/_base.py:271\u001b[0m, in \u001b[0;36mBaseClient.perform_request\u001b[0;34m(self, method, path, params, headers, body, endpoint_id, path_parts)\u001b[0m\n\u001b[1;32m    255\u001b[0m \u001b[39mdef\u001b[39;00m \u001b[39mperform_request\u001b[39m(\n\u001b[1;32m    256\u001b[0m     \u001b[39mself\u001b[39m,\n\u001b[1;32m    257\u001b[0m     method: \u001b[39mstr\u001b[39m,\n\u001b[0;32m   (...)\u001b[0m\n\u001b[1;32m    264\u001b[0m     path_parts: Optional[Mapping[\u001b[39mstr\u001b[39m, Any]] \u001b[39m=\u001b[39m \u001b[39mNone\u001b[39;00m,\n\u001b[1;32m    265\u001b[0m ) \u001b[39m-\u001b[39m\u001b[39m>\u001b[39m ApiResponse[Any]:\n\u001b[1;32m    266\u001b[0m     \u001b[39mwith\u001b[39;00m \u001b[39mself\u001b[39m\u001b[39m.\u001b[39m_otel\u001b[39m.\u001b[39mspan(\n\u001b[1;32m    267\u001b[0m         method,\n\u001b[1;32m    268\u001b[0m         endpoint_id\u001b[39m=\u001b[39mendpoint_id,\n\u001b[1;32m    269\u001b[0m         path_parts\u001b[39m=\u001b[39mpath_parts \u001b[39mor\u001b[39;00m {},\n\u001b[1;32m    270\u001b[0m     ) \u001b[39mas\u001b[39;00m otel_span:\n\u001b[0;32m--> 271\u001b[0m         response \u001b[39m=\u001b[39m \u001b[39mself\u001b[39;49m\u001b[39m.\u001b[39;49m_perform_request(\n\u001b[1;32m    272\u001b[0m             method,\n\u001b[1;32m    273\u001b[0m             path,\n\u001b[1;32m    274\u001b[0m             params\u001b[39m=\u001b[39;49mparams,\n\u001b[1;32m    275\u001b[0m             headers\u001b[39m=\u001b[39;49mheaders,\n\u001b[1;32m    276\u001b[0m             body\u001b[39m=\u001b[39;49mbody,\n\u001b[1;32m    277\u001b[0m             otel_span\u001b[39m=\u001b[39;49motel_span,\n\u001b[1;32m    278\u001b[0m         )\n\u001b[1;32m    279\u001b[0m         otel_span\u001b[39m.\u001b[39mset_elastic_cloud_metadata(response\u001b[39m.\u001b[39mmeta\u001b[39m.\u001b[39mheaders)\n\u001b[1;32m    280\u001b[0m         \u001b[39mreturn\u001b[39;00m response\n",
      "File \u001b[0;32m/usr/local/lib/python3.11/site-packages/elasticsearch/_sync/client/_base.py:352\u001b[0m, in \u001b[0;36mBaseClient._perform_request\u001b[0;34m(self, method, path, params, headers, body, otel_span)\u001b[0m\n\u001b[1;32m    349\u001b[0m         \u001b[39mexcept\u001b[39;00m (\u001b[39mValueError\u001b[39;00m, \u001b[39mKeyError\u001b[39;00m, \u001b[39mTypeError\u001b[39;00m):\n\u001b[1;32m    350\u001b[0m             \u001b[39mpass\u001b[39;00m\n\u001b[0;32m--> 352\u001b[0m     \u001b[39mraise\u001b[39;00m HTTP_EXCEPTIONS\u001b[39m.\u001b[39mget(meta\u001b[39m.\u001b[39mstatus, ApiError)(\n\u001b[1;32m    353\u001b[0m         message\u001b[39m=\u001b[39mmessage, meta\u001b[39m=\u001b[39mmeta, body\u001b[39m=\u001b[39mresp_body\n\u001b[1;32m    354\u001b[0m     )\n\u001b[1;32m    356\u001b[0m \u001b[39m# 'X-Elastic-Product: Elasticsearch' should be on every 2XX response.\u001b[39;00m\n\u001b[1;32m    357\u001b[0m \u001b[39mif\u001b[39;00m \u001b[39mnot\u001b[39;00m \u001b[39mself\u001b[39m\u001b[39m.\u001b[39m_verified_elasticsearch:\n\u001b[1;32m    358\u001b[0m     \u001b[39m# If the header is set we mark the server as verified.\u001b[39;00m\n",
      "\u001b[0;31mBadRequestError\u001b[0m: BadRequestError(400, 'resource_already_exists_exception', 'index [hp_script_1/MrJfFxveTFiNOqwVi12UoA] already exists')"
     ]
    }
   ],
   "source": [
    "hp_script[\"Line_number\"] = hp_script.index\n",
    "\n",
    "index = \"hp_script_1\"\n",
    "settings = {}\n",
    "mappings = {\n",
    "    \"_meta\" : {\n",
    "        \"created_by\" : \"Iulia Feroli\"\n",
    "    },\n",
    "    \"properties\" : {\n",
    "        \"Line_number\" : {\n",
    "            \"type\" : \"long\"\n",
    "        },\n",
    "        \"Character\" : {\n",
    "            \"type\" : \"keyword\",\n",
    "            \"type\" : \"text\"\n",
    "        },\n",
    "        \"Sentence\" : {\n",
    "            \"type\" : \"text\"\n",
    "        }\n",
    "    }\n",
    "}\n",
    "\n",
    "client.indices.create(index=index, settings=settings, mappings=mappings)\n"
   ]
  },
  {
   "cell_type": "markdown",
   "metadata": {},
   "source": [
    "Now we can add our documents to the index. We can easily convert our dataframe into a dictionary to see the format each of our documents will take in the index."
   ]
  },
  {
   "cell_type": "code",
   "execution_count": 10,
   "metadata": {},
   "outputs": [
    {
     "data": {
      "text/plain": [
       "[{'Character': 'Dumbledore',\n",
       "  'Sentence': 'I shouldve known that you would be here Professor McGonagall',\n",
       "  'Line_number': 0},\n",
       " {'Character': 'McGonagall',\n",
       "  'Sentence': 'Good evening Professor Dumbledore',\n",
       "  'Line_number': 1},\n",
       " {'Character': 'McGonagall',\n",
       "  'Sentence': 'Are the rumors true Albus',\n",
       "  'Line_number': 2},\n",
       " {'Character': 'Dumbledore',\n",
       "  'Sentence': 'Im afraid so professor',\n",
       "  'Line_number': 3},\n",
       " {'Character': 'Dumbledore',\n",
       "  'Sentence': 'The good and the bad',\n",
       "  'Line_number': 4}]"
      ]
     },
     "execution_count": 10,
     "metadata": {},
     "output_type": "execute_result"
    }
   ],
   "source": [
    "from json import loads\n",
    "docs = hp_script.to_json(orient = \"records\")\n",
    "hp_script_docs = loads(docs)\n",
    "hp_script_docs[0:5]"
   ]
  },
  {
   "cell_type": "markdown",
   "metadata": {},
   "source": [
    "We can index documents into our new index either one by one with the index function or, more conveniently, when dealing with large numbers of documents, using the bulk helper. Let's run a test to see how index and delete work. See more info in the docs here"
   ]
  },
  {
   "cell_type": "code",
   "execution_count": 11,
   "metadata": {},
   "outputs": [
    {
     "name": "stdout",
     "output_type": "stream",
     "text": [
      "created\n",
      "{'Character': 'Dumbledore', 'Sentence': 'I shouldve known that you would be here Professor McGonagall', 'Line_number': 0}\n",
      "{'Character': 'McGonagall', 'Sentence': 'Good evening Professor Dumbledore', 'Line_number': 1}\n",
      "{'Character': 'McGonagall', 'Sentence': 'Are the rumors true Albus', 'Line_number': 2}\n",
      "{'Character': 'Dumbledore', 'Sentence': 'Im afraid so professor', 'Line_number': 3}\n",
      "{'Character': 'Dumbledore', 'Sentence': 'The good and the bad', 'Line_number': 4}\n",
      "{'Character': 'McGonagall', 'Sentence': 'And the boy', 'Line_number': 5}\n",
      "{'Character': 'Dumbledore', 'Sentence': 'Hagrid is bringing him', 'Line_number': 6}\n",
      "{'Character': 'McGonagall', 'Sentence': 'Do you think it wise to trust Hagrid with something as important as this', 'Line_number': 7}\n",
      "{'Character': 'Dumbledore', 'Sentence': 'Ah Professor I would trust Hagrid with my life', 'Line_number': 8}\n",
      "{'Character': 'Hagrid', 'Sentence': 'Professor Dumbledore sir', 'Line_number': 9}\n"
     ]
    }
   ],
   "source": [
    "doc_test = {\n",
    "    'Character': 'Iulia Feroli',\n",
    "    'Sentence': \"Wow, I've just added myself to the Harry Potter Books, I have so much to say!\",\n",
    "    'Line_number': 0\n",
    "}\n",
    "\n",
    "response = client.index(index = index, id = 1, document = doc_test)\n",
    "print(response['result'])\n",
    "\n",
    "response = client.search(index = index)\n",
    "for hit in response[\"hits\"][\"hits\"]:\n",
    "    print(hit['_source'])"
   ]
  },
  {
   "cell_type": "code",
   "execution_count": 12,
   "metadata": {},
   "outputs": [
    {
     "name": "stdout",
     "output_type": "stream",
     "text": [
      "deleted\n"
     ]
    }
   ],
   "source": [
    "response = client.delete(index = index, id = 1)\n",
    "print(response[\"result\"])"
   ]
  },
  {
   "cell_type": "markdown",
   "metadata": {},
   "source": [
    "And now let's index all our Harry Potter script lines."
   ]
  },
  {
   "cell_type": "code",
   "execution_count": 13,
   "metadata": {},
   "outputs": [],
   "source": [
    "\n",
    "from elasticsearch.helpers import bulk\n",
    "\n",
    "response = bulk(client = client, index = index, actions = iter(hp_script_docs), stats_only = True )"
   ]
  },
  {
   "cell_type": "markdown",
   "metadata": {},
   "source": [
    "And that's it! Let's see if the bulk ingest worked by doing a general search of all index documents:"
   ]
  },
  {
   "cell_type": "markdown",
   "metadata": {},
   "source": [
    "### Index Searches"
   ]
  },
  {
   "cell_type": "code",
   "execution_count": 14,
   "metadata": {},
   "outputs": [
    {
     "name": "stdout",
     "output_type": "stream",
     "text": [
      "We get back 3174 results, here are the top ones:\n",
      "{'Character': 'Dumbledore', 'Sentence': 'I shouldve known that you would be here Professor McGonagall', 'Line_number': 0}\n",
      "{'Character': 'McGonagall', 'Sentence': 'Good evening Professor Dumbledore', 'Line_number': 1}\n",
      "{'Character': 'McGonagall', 'Sentence': 'Are the rumors true Albus', 'Line_number': 2}\n",
      "{'Character': 'Dumbledore', 'Sentence': 'Im afraid so professor', 'Line_number': 3}\n",
      "{'Character': 'Dumbledore', 'Sentence': 'The good and the bad', 'Line_number': 4}\n",
      "{'Character': 'McGonagall', 'Sentence': 'And the boy', 'Line_number': 5}\n",
      "{'Character': 'Dumbledore', 'Sentence': 'Hagrid is bringing him', 'Line_number': 6}\n",
      "{'Character': 'McGonagall', 'Sentence': 'Do you think it wise to trust Hagrid with something as important as this', 'Line_number': 7}\n",
      "{'Character': 'Dumbledore', 'Sentence': 'Ah Professor I would trust Hagrid with my life', 'Line_number': 8}\n",
      "{'Character': 'Hagrid', 'Sentence': 'Professor Dumbledore sir', 'Line_number': 9}\n"
     ]
    }
   ],
   "source": [
    "response = client.search(index = index)\n",
    "\n",
    "print(\"We get back {total} results, here are the top ones:\".format(total=response[\"hits\"]['total']['value']))\n",
    "for hit in response[\"hits\"][\"hits\"]:\n",
    "    print(hit['_source'])"
   ]
  },
  {
   "cell_type": "markdown",
   "metadata": {},
   "source": [
    "### Using NLPs to drive searches\n",
    "Natural language search, also known as “conversational search” or natural language processing search, lets users perform a search in everyday language. For example, instead of searching for “vitamin b complex” and then adjusting filters to show results under $40, a user can type or speak “I want vitamin b complex for under $40.” And attractive, relevant results will be returned. "
   ]
  },
  {
   "cell_type": "markdown",
   "metadata": {},
   "source": [
    "We can see this already in our searches where NLP techniques retrieve similar results"
   ]
  },
  {
   "cell_type": "code",
   "execution_count": 15,
   "metadata": {},
   "outputs": [
    {
     "name": "stdout",
     "output_type": "stream",
     "text": [
      "We get back 314 results, here are the top ones:\n",
      "11.80299 {'Character': 'Hagrid', 'Sentence': 'I shouldnt have said that', 'Line_number': 961}\n",
      "11.80299 {'Character': 'Hagrid', 'Sentence': 'I shouldnt have said that', 'Line_number': 961}\n",
      "10.997591 {'Character': 'Hagrid', 'Sentence': 'I should not have said that', 'Line_number': 962}\n",
      "10.997591 {'Character': 'Hagrid', 'Sentence': 'I should not have said that', 'Line_number': 963}\n",
      "10.997591 {'Character': 'Hagrid', 'Sentence': 'I should not have said that', 'Line_number': 962}\n",
      "10.997591 {'Character': 'Hagrid', 'Sentence': 'I should not have said that', 'Line_number': 963}\n",
      "7.5856233 {'Character': 'Hagrid', 'Sentence': 'Shouldnta said that  No more questions', 'Line_number': 945}\n",
      "7.5856233 {'Character': 'Hagrid', 'Sentence': 'Shouldnta said that  No more questions', 'Line_number': 945}\n",
      "6.296635 {'Character': 'Neville', 'Sentence': 'She said that shed been in there all afternooncrying', 'Line_number': 800}\n",
      "6.296635 {'Character': 'Neville', 'Sentence': 'She said that shed been in there all afternooncrying', 'Line_number': 800}\n"
     ]
    }
   ],
   "source": [
    "response = client.search(index = index, query={\n",
    "    \"match\" : {\n",
    "        \"Sentence\" : \"shouldn't have said that\"\n",
    "    }\n",
    "})\n",
    "\n",
    "print(\"We get back {total} results, here are the top ones:\".format(total=response[\"hits\"]['total']['value']))\n",
    "for hit in response[\"hits\"][\"hits\"]:\n",
    "    print(hit[\"_score\"], hit['_source'])"
   ]
  }
 ],
 "metadata": {
  "kernelspec": {
   "display_name": "Python 3",
   "language": "python",
   "name": "python3"
  },
  "language_info": {
   "codemirror_mode": {
    "name": "ipython",
    "version": 3
   },
   "file_extension": ".py",
   "mimetype": "text/x-python",
   "name": "python",
   "nbconvert_exporter": "python",
   "pygments_lexer": "ipython3",
   "version": "3.11.5"
  }
 },
 "nbformat": 4,
 "nbformat_minor": 2
}
