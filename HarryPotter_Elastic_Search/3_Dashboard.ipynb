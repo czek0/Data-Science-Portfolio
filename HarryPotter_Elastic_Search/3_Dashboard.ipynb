{
 "cells": [
  {
   "cell_type": "markdown",
   "metadata": {},
   "source": [
    "# Part 3: Setting up a Dashboard on Elastic\n",
    "Once our data is imported and we have a view generated, we can start exploring our data in Discover, or create visualizations in Dashboard - both found under the Analytics tab. Here is a quick dashboard I have created"
   ]
  },
  {
   "cell_type": "markdown",
   "metadata": {},
   "source": [
    "![image](Supporting_images/3_Dashboard.png)"
   ]
  },
  {
   "cell_type": "markdown",
   "metadata": {},
   "source": [
    "However, the most important thing we can learn from the Dashboard is that our data probably needs more cleaning.You will notice that not all columns in the dataset show up as fields. We notice the pop-up suggesting full text fields cannot be visualized, which might be the reason why. Therefore, if we want to get more meaningful information, we'll have to start processing our dataset.\n",
    "\n",
    "In the next sections we will explore how strings work in Elastic, and how to set up accurate mappings to define our fields and make search easier."
   ]
  },
  {
   "cell_type": "markdown",
   "metadata": {},
   "source": [
    "![image](Supporting_images/3_Dashboard_names_correct.png)"
   ]
  }
 ],
 "metadata": {
  "language_info": {
   "name": "python"
  }
 },
 "nbformat": 4,
 "nbformat_minor": 2
}
