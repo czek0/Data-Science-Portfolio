{
 "cells": [
  {
   "cell_type": "markdown",
   "metadata": {},
   "source": [
    "# Part 2: Uploading the Data to ElasticSearct"
   ]
  },
  {
   "cell_type": "markdown",
   "metadata": {},
   "source": [
    "Now that we have completed part one and have the clean data. We can open our browser and upload our data. Here are my steps below:\n",
    "\n",
    "1. On the Elastic Search Website create a new API with cloud and Api key\n",
    "2. Ingest your content via uploading a csv file\n",
    "\n",
    "You will know it is completed when you can see the file contents and statistics\n",
    "!img"
   ]
  },
  {
   "cell_type": "markdown",
   "metadata": {},
   "source": [
    "![image](Supporting_images/2_Data_upload.png)\n",
    "![image](Supporting_images/2_Data_stats.png)"
   ]
  },
  {
   "cell_type": "markdown",
   "metadata": {},
   "source": [
    "Then select \"over-ride settings and check you have 15 columns, you can then make changes to the names of the columns. When satisified, click import and give it as useful name. You can confirm your data has been uploaded by \"Data View Management\""
   ]
  },
  {
   "cell_type": "markdown",
   "metadata": {},
   "source": [
    "![image](Supporting_images/2_Data_confirmed.png)"
   ]
  }
 ],
 "metadata": {
  "kernelspec": {
   "display_name": "Python 3",
   "language": "python",
   "name": "python3"
  },
  "language_info": {
   "codemirror_mode": {
    "name": "ipython",
    "version": 3
   },
   "file_extension": ".py",
   "mimetype": "text/x-python",
   "name": "python",
   "nbconvert_exporter": "python",
   "pygments_lexer": "ipython3",
   "version": "3.11.5"
  }
 },
 "nbformat": 4,
 "nbformat_minor": 2
}
